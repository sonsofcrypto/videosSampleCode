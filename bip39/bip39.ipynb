{
 "cells": [
  {
   "cell_type": "code",
   "execution_count": 11,
   "metadata": {
    "collapsed": true,
    "pycharm": {
     "name": "#%%\n"
    }
   },
   "outputs": [],
   "source": [
    "import os\n",
    "import hashlib"
   ]
  },
  {
   "cell_type": "code",
   "execution_count": 12,
   "outputs": [
    {
     "name": "stdout",
     "output_type": "stream",
     "text": [
      "Entropy: 604f02a726623a819b5af7e823d3b24c\n"
     ]
    }
   ],
   "source": [
    "# First we need secure source of randomness\n",
    "# valid entropy bit sizes [128, 160, 192, 224, 256]\n",
    "entropyBitSize = 128\n",
    "# secure source of randomness\n",
    "entropyBytes = os.urandom(entropyBitSize // 8) # Byte has 8 bits\n",
    "print(\"Entropy:\", entropyBytes.hex())"
   ],
   "metadata": {
    "collapsed": false,
    "pycharm": {
     "name": "#%%\n"
    }
   }
  },
  {
   "cell_type": "markdown",
   "source": [],
   "metadata": {
    "collapsed": false,
    "pycharm": {
     "name": "#%% md\n"
    }
   }
  },
  {
   "cell_type": "code",
   "execution_count": 13,
   "outputs": [
    {
     "name": "stdout",
     "output_type": "stream",
     "text": [
      "Entropy bits: bitarray('01100000010011110000001010100111001001100110001000111010100000011001101101011010111101111110100000100011110100111011001001001100')\n"
     ]
    }
   ],
   "source": [
    "# we convert our entropy bytes to bit array so its easier to work with\n",
    "from bitarray import bitarray\n",
    "entropyBits = bitarray()\n",
    "entropyBits.frombytes(entropyBytes)\n",
    "print(\"Entropy bits:\", entropyBits)"
   ],
   "metadata": {
    "collapsed": false,
    "pycharm": {
     "name": "#%%\n"
    }
   }
  },
  {
   "cell_type": "code",
   "execution_count": 14,
   "outputs": [
    {
     "name": "stdout",
     "output_type": "stream",
     "text": [
      "checksum size: 4\n",
      "hashed bytes: cd15880675857f3e0db3348d1e85304a7e2a0ec97e64abea64bd300aae3dd16b\n",
      "checksum bits: bitarray('1100')\n"
     ]
    }
   ],
   "source": [
    "# we need to add checksum bits at the of our are entropy\n",
    "checksumLen = entropyBitSize // 32 # checksum length depends on the length of entropy\n",
    "print(\"checksum size:\", checksumLen)\n",
    "\n",
    "# We need to take a hash of our entropy\n",
    "\n",
    "hashBytes = hashlib.sha256(entropyBytes).digest()\n",
    "print(\"hashed bytes:\", hashBytes.hex())\n",
    "\n",
    "hashBits = bitarray()\n",
    "hashBits.frombytes(hashBytes)\n",
    "checksum = hashBits[:checksumLen]\n",
    "print(\"checksum bits:\", checksum)"
   ],
   "metadata": {
    "collapsed": false,
    "pycharm": {
     "name": "#%%\n"
    }
   }
  },
  {
   "cell_type": "code",
   "execution_count": 15,
   "outputs": [
    {
     "name": "stdout",
     "output_type": "stream",
     "text": [
      "entropy length: 132\n"
     ]
    }
   ],
   "source": [
    "# Add checksum bits at the end of entropy\n",
    "entropyBits.extend(checksum)\n",
    "print(\"entropy length:\", len(entropyBits))"
   ],
   "metadata": {
    "collapsed": false,
    "pycharm": {
     "name": "#%%\n"
    }
   }
  },
  {
   "cell_type": "code",
   "execution_count": 16,
   "outputs": [
    {
     "name": "stdout",
     "output_type": "stream",
     "text": [
      "[770, 960, 1358, 614, 285, 518, 875, 759, 1857, 244, 1892, 1228]\n"
     ]
    }
   ],
   "source": [
    "# Get indexed from bits\n",
    "indexes = list()\n",
    "from bitarray.util import ba2int\n",
    "\n",
    "for idx in range(len(entropyBits) // 11):\n",
    "    startIdx = idx * 11\n",
    "    endIdx = startIdx + 11\n",
    "    wordIndex = ba2int(entropyBits[startIdx:endIdx])\n",
    "    indexes.append(wordIndex)\n",
    "\n",
    "print(indexes)"
   ],
   "metadata": {
    "collapsed": false,
    "pycharm": {
     "name": "#%%\n"
    }
   }
  },
  {
   "cell_type": "code",
   "execution_count": 17,
   "outputs": [
    {
     "name": "stdout",
     "output_type": "stream",
     "text": [
      "words len: 2048\n"
     ]
    }
   ],
   "source": [
    "# Load bip 39 words\n",
    "fileObj = open(\"bip-0039/english.txt\", \"r\")\n",
    "words = fileObj.read().splitlines()\n",
    "fileObj.close()\n",
    "print(\"words len:\", len(words))"
   ],
   "metadata": {
    "collapsed": false,
    "pycharm": {
     "name": "#%%\n"
    }
   }
  },
  {
   "cell_type": "code",
   "execution_count": 18,
   "outputs": [
    {
     "name": "stdout",
     "output_type": "stream",
     "text": [
      "mnemonic: ['gate', 'job', 'prefer', 'error', 'casual', 'dolphin', 'hope', 'galaxy', 'trial', 'burden', 'uncle', 'office']\n"
     ]
    }
   ],
   "source": [
    "# Map indexes onto words\n",
    "mnemonic = list(map(lambda idx: words[idx] , indexes))\n",
    "print(\"mnemonic:\", mnemonic)"
   ],
   "metadata": {
    "collapsed": false,
    "pycharm": {
     "name": "#%%\n"
    }
   }
  },
  {
   "cell_type": "code",
   "execution_count": 19,
   "outputs": [],
   "source": [
    "# Generate salt\n",
    "password = \"\"\n",
    "salt = \"mnemonic\" + password"
   ],
   "metadata": {
    "collapsed": false,
    "pycharm": {
     "name": "#%%\n"
    }
   }
  },
  {
   "cell_type": "code",
   "execution_count": 20,
   "outputs": [
    {
     "name": "stdout",
     "output_type": "stream",
     "text": [
      "seed len: 64\n",
      "seed hex: 29eab2e74c0d72196aa2394a84fe29ad6feb16951a6fe77e936677de0ba726ab77a56e16cf3f9ae368d9a097d7c72acd7239c3f5b0dd844b711e7eef4d3e57c7\n",
      "priv key: 29eab2e74c0d72196aa2394a84fe29ad6feb16951a6fe77e936677de0ba726ab\n",
      "chain co: 77a56e16cf3f9ae368d9a097d7c72acd7239c3f5b0dd844b711e7eef4d3e57c7\n"
     ]
    }
   ],
   "source": [
    "# Finally, we derive seed\n",
    "\n",
    "mnemonicStr = ' '.join(mnemonic)\n",
    "seed = hashlib.pbkdf2_hmac(\n",
    "    \"sha512\",\n",
    "    mnemonicStr.encode(\"utf-8\"),\n",
    "    salt.encode(\"utf-8\"),\n",
    "    2048\n",
    ")\n",
    "\n",
    "print(\"seed len:\", len(seed))\n",
    "print(\"seed hex:\", seed.hex())\n",
    "print(\"priv key:\", seed[0:32].hex())\n",
    "print(\"chain co:\", seed[32:64].hex())"
   ],
   "metadata": {
    "collapsed": false,
    "pycharm": {
     "name": "#%%\n"
    }
   }
  }
 ],
 "metadata": {
  "kernelspec": {
   "display_name": "Python 3",
   "language": "python",
   "name": "python3"
  },
  "language_info": {
   "codemirror_mode": {
    "name": "ipython",
    "version": 2
   },
   "file_extension": ".py",
   "mimetype": "text/x-python",
   "name": "python",
   "nbconvert_exporter": "python",
   "pygments_lexer": "ipython2",
   "version": "2.7.6"
  }
 },
 "nbformat": 4,
 "nbformat_minor": 0
}