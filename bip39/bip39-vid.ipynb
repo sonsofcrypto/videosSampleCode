{
 "cells": [
  {
   "cell_type": "code",
   "execution_count": 28,
   "outputs": [],
   "source": [
    "import os\n",
    "import hashlib\n",
    "from bitarray.util import ba2int"
   ],
   "metadata": {
    "collapsed": false,
    "pycharm": {
     "name": "#%%\n"
    }
   }
  },
  {
   "cell_type": "code",
   "execution_count": 29,
   "outputs": [
    {
     "name": "stdout",
     "output_type": "stream",
     "text": [
      "Entropy: a0c49931528599a9cba12fea63a43146\n"
     ]
    }
   ],
   "source": [
    "entropyBitSize = 128\n",
    "entropyBytes = os.urandom(entropyBitSize // 8)\n",
    "print(\"Entropy:\", entropyBytes.hex())"
   ],
   "metadata": {
    "collapsed": false,
    "pycharm": {
     "name": "#%%\n"
    }
   }
  },
  {
   "cell_type": "code",
   "execution_count": 30,
   "outputs": [
    {
     "name": "stdout",
     "output_type": "stream",
     "text": [
      "Entropy bits: bitarray('10100000110001001001100100110001010100101000010110011001101010011100101110100001001011111110101001100011101001000011000101000110')\n"
     ]
    }
   ],
   "source": [
    "from bitarray import bitarray\n",
    "entropyBits = bitarray()\n",
    "entropyBits.frombytes(entropyBytes)\n",
    "print(\"Entropy bits:\", entropyBits)"
   ],
   "metadata": {
    "collapsed": false,
    "pycharm": {
     "name": "#%%\n"
    }
   }
  },
  {
   "cell_type": "code",
   "execution_count": 31,
   "outputs": [
    {
     "name": "stdout",
     "output_type": "stream",
     "text": [
      "checksum size: 4\n",
      "hashed bytes: b2b7217c7e86cd297fbb63647946f640ee674893475dd2740e19afaa3e4d0a31\n",
      "checksum bits bitarray('1011')\n"
     ]
    }
   ],
   "source": [
    "checksumLen = entropyBitSize // 32\n",
    "print(\"checksum size:\", checksumLen)\n",
    "\n",
    "hashBytes = hashlib.sha256(entropyBytes).digest()\n",
    "print(\"hashed bytes:\", hashBytes.hex())\n",
    "\n",
    "hashBits = bitarray()\n",
    "hashBits.frombytes(hashBytes)\n",
    "checksum = hashBits[:checksumLen]\n",
    "print(\"checksum bits\", checksum)"
   ],
   "metadata": {
    "collapsed": false,
    "pycharm": {
     "name": "#%%\n"
    }
   }
  },
  {
   "cell_type": "code",
   "execution_count": 32,
   "outputs": [
    {
     "name": "stdout",
     "output_type": "stream",
     "text": [
      "entropy length: 132\n"
     ]
    }
   ],
   "source": [
    "entropyBits.extend(checksum)\n",
    "print(\"entropy length:\", len(entropyBits))"
   ],
   "metadata": {
    "collapsed": false,
    "pycharm": {
     "name": "#%%\n"
    }
   }
  },
  {
   "cell_type": "code",
   "execution_count": 33,
   "outputs": [
    {
     "name": "stdout",
     "output_type": "stream",
     "text": [
      "[1286, 294, 610, 1320, 716, 1703, 372, 303, 1875, 233, 98, 1131]\n"
     ]
    }
   ],
   "source": [
    "indexes = list()\n",
    "\n",
    "for idx in range(len(entropyBits) // 11):\n",
    "    startIdx = idx * 11\n",
    "    endIdx = startIdx + 11\n",
    "    wordIdx = ba2int(entropyBits[startIdx:endIdx])\n",
    "    indexes.append(wordIdx)\n",
    "\n",
    "print(indexes)"
   ],
   "metadata": {
    "collapsed": false,
    "pycharm": {
     "name": "#%%\n"
    }
   }
  },
  {
   "cell_type": "code",
   "execution_count": 34,
   "outputs": [
    {
     "name": "stdout",
     "output_type": "stream",
     "text": [
      "words len: 2048\n"
     ]
    }
   ],
   "source": [
    "fileObj = open(\"bip-0039/english.txt\", \"r\")\n",
    "words = fileObj.read().splitlines()\n",
    "fileObj.close()\n",
    "print(\"words len:\", len(words))"
   ],
   "metadata": {
    "collapsed": false,
    "pycharm": {
     "name": "#%%\n"
    }
   }
  },
  {
   "cell_type": "code",
   "execution_count": 40,
   "outputs": [
    {
     "name": "stdout",
     "output_type": "stream",
     "text": [
      "mnemonic: ['patch', 'cave', 'era', 'pink', 'flower', 'stay', 'company', 'chalk', 'tuna', 'brush', 'arrange', 'miracle']\n"
     ]
    }
   ],
   "source": [
    "mnemonic = list(map(lambda idx: words[idx], indexes))\n",
    "print(\"mnemonic:\", mnemonic)"
   ],
   "metadata": {
    "collapsed": false,
    "pycharm": {
     "name": "#%%\n"
    }
   }
  },
  {
   "cell_type": "code",
   "execution_count": 41,
   "outputs": [],
   "source": [
    "password = \"\"\n",
    "salt = \"mnemonic\" + password"
   ],
   "metadata": {
    "collapsed": false,
    "pycharm": {
     "name": "#%%\n"
    }
   }
  },
  {
   "cell_type": "code",
   "execution_count": 43,
   "outputs": [
    {
     "name": "stdout",
     "output_type": "stream",
     "text": [
      "seed len: 64\n",
      "seed hex: 261ce449c0ba502ec5369affd2bb43f7d1203835c6a822fa2097a64c2cc558101cf036df88ae8367b28458d0f15373151ba9c6bd9d9b4c7a68ea00bb80556a5b\n",
      "priv key: 261ce449c0ba502ec5369affd2bb43f7d1203835c6a822fa2097a64c2cc55810\n",
      "chain co: 1cf036df88ae8367b28458d0f15373151ba9c6bd9d9b4c7a68ea00bb80556a5b\n"
     ]
    }
   ],
   "source": [
    "mnemonicStr = \" \".join(mnemonic)\n",
    "seed = hashlib.pbkdf2_hmac(\n",
    "    \"sha512\",\n",
    "    mnemonicStr.encode(\"utf-8\"),\n",
    "    salt.encode(\"utf-8\"),\n",
    "    2048\n",
    ")\n",
    "\n",
    "print(\"seed len:\", len(seed))\n",
    "print(\"seed hex:\", seed.hex())\n",
    "print(\"priv key:\", seed[0:32].hex())\n",
    "print(\"chain co:\", seed[32:64].hex())"
   ],
   "metadata": {
    "collapsed": false,
    "pycharm": {
     "name": "#%%\n"
    }
   }
  }
 ],
 "metadata": {
  "kernelspec": {
   "display_name": "Python 3",
   "language": "python",
   "name": "python3"
  },
  "language_info": {
   "codemirror_mode": {
    "name": "ipython",
    "version": 2
   },
   "file_extension": ".py",
   "mimetype": "text/x-python",
   "name": "python",
   "nbconvert_exporter": "python",
   "pygments_lexer": "ipython2",
   "version": "2.7.6"
  }
 },
 "nbformat": 4,
 "nbformat_minor": 0
}